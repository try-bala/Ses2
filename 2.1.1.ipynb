{
 "cells": [
  {
   "cell_type": "code",
   "execution_count": 2,
   "metadata": {},
   "outputs": [
    {
     "name": "stdout",
     "output_type": "stream",
     "text": [
      "10\n",
      "1200\n"
     ]
    }
   ],
   "source": [
    "def myreduce(fn,sq):\n",
    "    if (len(sq) == 0):\n",
    "        return\n",
    "    if (len(sq) == 1):\n",
    "        return sq[0]\n",
    "    res = fn(sq[0],sq[1])  \n",
    "    sq = sq[2:len(sq)]\n",
    "    while(len(sq) > 0):\n",
    "        res = fn(res,sq[0])  \n",
    "        sq.pop(0)\n",
    "    return res\n",
    "    \n",
    "lis = [ 10,7,1 , 3, 5, 6, 2,9 ]\n",
    "print(myreduce(lambda a,b : a if a > b else b,lis)) \n",
    "\n",
    "print(myreduce((lambda x, y: x * y), [1, 2, 3, 4,5,10]))"
   ]
  },
  {
   "cell_type": "code",
   "execution_count": 20,
   "metadata": {},
   "outputs": [
    {
     "name": "stdout",
     "output_type": "stream",
     "text": [
      "11\n"
     ]
    }
   ],
   "source": [
    "print(myreduce(lambda a,b : a if a > b else b,[11])) "
   ]
  },
  {
   "cell_type": "code",
   "execution_count": 3,
   "metadata": {},
   "outputs": [
    {
     "name": "stdout",
     "output_type": "stream",
     "text": [
      "Hello there \n"
     ]
    }
   ],
   "source": [
    "print(myreduce(lambda a,b : a + b,['Hello ','there '])) "
   ]
  },
  {
   "cell_type": "code",
   "execution_count": 4,
   "metadata": {},
   "outputs": [
    {
     "name": "stdout",
     "output_type": "stream",
     "text": [
      "Hello there \n"
     ]
    }
   ],
   "source": [
    "import functools\n",
    "print(functools.reduce(lambda a,b : a + b,['Hello ',\"there \"])) "
   ]
  }
 ],
 "metadata": {
  "kernelspec": {
   "display_name": "Python 3",
   "language": "python",
   "name": "python3"
  },
  "language_info": {
   "codemirror_mode": {
    "name": "ipython",
    "version": 3
   },
   "file_extension": ".py",
   "mimetype": "text/x-python",
   "name": "python",
   "nbconvert_exporter": "python",
   "pygments_lexer": "ipython3",
   "version": "3.6.5"
  }
 },
 "nbformat": 4,
 "nbformat_minor": 2
}
