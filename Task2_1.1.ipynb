{
 "cells": [
  {
   "cell_type": "raw",
   "metadata": {},
   "source": [
    "Write a Python Program(with class concepts) to find the area of the triangle using the below formula.\n",
    "area = (s*(s-a)*(s-b)*(s-c)) ** 0.5\n",
    "Function to take the length of the sides of triangle from user should be defined in the parent class \n",
    "and function to calculate the area should be defined in subclass.\n",
    "\n",
    "Here, s = (a + b + c) / 2"
   ]
  },
  {
   "cell_type": "code",
   "execution_count": 21,
   "metadata": {},
   "outputs": [],
   "source": [
    "#Base class Shape consists of functionality to get the desired shape's individual side length\n",
    "\n",
    "class Shape:\n",
    "  def __init__(self,shpType):\n",
    "    self.shpType = shpType\n",
    "    self.sides = []\n",
    "  \n",
    "  def getSidesLength(self):\n",
    "    noOfSides = 0\n",
    "    if self.shpType == \"Triangle\":\n",
    "        noOfSides = 3\n",
    "    else:\n",
    "        print(\"Unknown shape.\")\n",
    "    for i in range(noOfSides):\n",
    "        j = input(\"Enter the length of side \" + str(i+1) + \" : \")\n",
    "        self.sides.append(float(j))\n",
    "  \n",
    "  def __str__(self):\n",
    "    return \"Shape : \" + self.shpType \n",
    "\n",
    "\n",
    "\n",
    "# Triangle class inherits Shape and implements the area calculation functionality for Triangle\n",
    "\n",
    "class Triangle(Shape):\n",
    "\n",
    "  def __init__(self):\n",
    "    super(Triangle,self).__init__(\"Triangle\")\n",
    "\n",
    "  def calcArea(self):\n",
    "    v = 0\n",
    "    t = 1\n",
    "    \n",
    "    super().getSidesLength()\n",
    "    \n",
    "    for side in self.sides:\n",
    "      v += side\n",
    "    \n",
    "    s = v/2\n",
    "    \n",
    "    for side in self.sides:\n",
    "      t *= (s-side)\n",
    "\n",
    "    return((s*t)**0.5)\n"
   ]
  },
  {
   "cell_type": "code",
   "execution_count": 25,
   "metadata": {},
   "outputs": [
    {
     "name": "stdout",
     "output_type": "stream",
     "text": [
      "Shape : Triangle\n"
     ]
    }
   ],
   "source": [
    "triangle = Triangle()\n",
    "print(triangle)"
   ]
  },
  {
   "cell_type": "code",
   "execution_count": 23,
   "metadata": {},
   "outputs": [
    {
     "name": "stdout",
     "output_type": "stream",
     "text": [
      "Enter the length of side 1 : 5\n",
      "Enter the length of side 2 : 4\n",
      "Enter the length of side 3 : 7\n",
      "\n",
      "Area of the triangle :  9.797958971132712\n"
     ]
    }
   ],
   "source": [
    "print(\"\\nArea of the triangle : \",triangle.calcArea())"
   ]
  }
 ],
 "metadata": {
  "kernelspec": {
   "display_name": "Python 3",
   "language": "python",
   "name": "python3"
  },
  "language_info": {
   "codemirror_mode": {
    "name": "ipython",
    "version": 3
   },
   "file_extension": ".py",
   "mimetype": "text/x-python",
   "name": "python",
   "nbconvert_exporter": "python",
   "pygments_lexer": "ipython3",
   "version": "3.6.5"
  }
 },
 "nbformat": 4,
 "nbformat_minor": 2
}
