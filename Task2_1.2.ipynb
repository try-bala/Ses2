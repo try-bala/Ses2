{
 "cells": [
  {
   "cell_type": "raw",
   "metadata": {},
   "source": [
    "Write a function filter_long_words() that takes a list of words and an integer n and returns the list\n",
    "of words that are longer than n."
   ]
  },
  {
   "cell_type": "code",
   "execution_count": 45,
   "metadata": {},
   "outputs": [],
   "source": [
    "def parseSentence(text):\n",
    "    words = text.split()\n",
    "    return words\n",
    "    \n",
    "def filterWordsByLength(words,l):\n",
    "    wordsTemp = dict()\n",
    "    for word in words:\n",
    "        if (len(word) in wordsTemp.keys()):\n",
    "            wordsTemp[len(word)].append(word)\n",
    "        else:\n",
    "            wordsTemp[len(word)] = [word]\n",
    "    \n",
    "    filteredWords = {}\n",
    "    for n in wordsTemp.keys(): \n",
    "        if n > l:\n",
    "            filteredWords[n] = wordsTemp[n]\n",
    "    \n",
    "    displayResult(filteredWords,l)\n",
    "            \n",
    "def displayResult(filteredWords,l):  \n",
    "    print(\"Filtered the words that are longer than %d characters\" %(l))\n",
    "    print(\"\\nResult : \")\n",
    "    if len(filteredWords) == 0:\n",
    "        print(\"\\nNo words are longer than %d characters in given input\" %(l))\n",
    "    else:\n",
    "        print(\"\\nLength\\tWord(s)\")\n",
    "        print(\"------\\t-------\")\n",
    "        for k in sorted(filteredWords):\n",
    "            print(\"%d\\t\" %(k), end = \"\")\n",
    "            print(*set(filteredWords[k]), sep = \", \")\n",
    "            "
   ]
  },
  {
   "cell_type": "code",
   "execution_count": 50,
   "metadata": {},
   "outputs": [
    {
     "name": "stdout",
     "output_type": "stream",
     "text": [
      "Filtered the words that are longer than 6 characters\n",
      "\n",
      "Result : \n",
      "\n",
      "Length\tWord(s)\n",
      "------\t-------\n",
      "7\tdesired\n",
      "8\tsentence\n",
      "9\tcontains.\n",
      "11\tcalculation, characters., categorized\n"
     ]
    }
   ],
   "source": [
    "sentence = \"This sentence is the input that needs to be parsed and categorized based on the \\\n",
    "length of each word this contains. Later calculation is made to return the words that are \\\n",
    "longer than desired number of characters.\"\n",
    "\n",
    "words = parseSentence(sentence)\n",
    "filterWordsByLength(words,6)"
   ]
  }
 ],
 "metadata": {
  "kernelspec": {
   "display_name": "Python 3",
   "language": "python",
   "name": "python3"
  },
  "language_info": {
   "codemirror_mode": {
    "name": "ipython",
    "version": 3
   },
   "file_extension": ".py",
   "mimetype": "text/x-python",
   "name": "python",
   "nbconvert_exporter": "python",
   "pygments_lexer": "ipython3",
   "version": "3.6.5"
  }
 },
 "nbformat": 4,
 "nbformat_minor": 2
}
