{
 "cells": [
  {
   "cell_type": "code",
   "execution_count": 4,
   "metadata": {},
   "outputs": [
    {
     "name": "stdout",
     "output_type": "stream",
     "text": [
      "Using my filter : \n",
      "[0, 2, 4, 6, 8, 10, 12, 14, 16, 18]\n",
      "\n",
      "Using Python filter : \n",
      "[0, 2, 4, 6, 8, 10, 12, 14, 16, 18]\n"
     ]
    }
   ],
   "source": [
    "# myfilter() function which works exactly like Python's built-in function filter()\n",
    "def even_check(num):\n",
    "  if num%2 ==0:\n",
    "    return True\n",
    "\n",
    "def myfilter(fn,sq):\n",
    "  res = []\n",
    "  for i in sq:\n",
    "    if (fn(i)):\n",
    "      res.append(i)\n",
    "  return res\n",
    "\n",
    "lst1 =range(20)\n",
    "print(\"Using my filter : \")\n",
    "print(list(myfilter(even_check,lst1)))\n",
    "\n",
    "lst =range(20)\n",
    "print(\"\\nUsing Python filter : \")\n",
    "print(list(filter(even_check,lst)) )\n"
   ]
  },
  {
   "cell_type": "code",
   "execution_count": 5,
   "metadata": {},
   "outputs": [
    {
     "name": "stdout",
     "output_type": "stream",
     "text": [
      "[]\n",
      "[]\n"
     ]
    }
   ],
   "source": [
    "print(list(filter(even_check,[])) )\n",
    "print(list(myfilter(even_check,[])))"
   ]
  },
  {
   "cell_type": "code",
   "execution_count": 6,
   "metadata": {},
   "outputs": [
    {
     "name": "stdout",
     "output_type": "stream",
     "text": [
      "[6]\n",
      "[6]\n"
     ]
    }
   ],
   "source": [
    "print(list(filter(even_check,[7,6])) )\n",
    "print(list(myfilter(even_check,[7,6])))"
   ]
  }
 ],
 "metadata": {
  "kernelspec": {
   "display_name": "Python 3",
   "language": "python",
   "name": "python3"
  },
  "language_info": {
   "codemirror_mode": {
    "name": "ipython",
    "version": 3
   },
   "file_extension": ".py",
   "mimetype": "text/x-python",
   "name": "python",
   "nbconvert_exporter": "python",
   "pygments_lexer": "ipython3",
   "version": "3.6.5"
  }
 },
 "nbformat": 4,
 "nbformat_minor": 2
}
