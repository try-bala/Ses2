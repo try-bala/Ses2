{
 "cells": [
  {
   "cell_type": "code",
   "execution_count": 1,
   "metadata": {},
   "outputs": [
    {
     "name": "stdout",
     "output_type": "stream",
     "text": [
      "Input text : \n",
      "\n",
      "Need to check the longest word(s) in this input string and print the result\n",
      "\n",
      "\n",
      "The longest word(s) in the given sentence is/are : longest, word(s)\n"
     ]
    }
   ],
   "source": [
    "#function longestWord() that takes a list of words and returns the longest one\n",
    "\n",
    "def longestWord(li):\n",
    "  result = dict()\n",
    "  for word in li:\n",
    "    if (len(word) in result.keys()):\n",
    "      result[len(word)].append(word)\n",
    "    else:\n",
    "      result[len(word)] = [word]\n",
    "  long_key = max(result.keys())\n",
    "  print(\"The longest word(s) in the given sentence is/are : \", end=\"\")\n",
    "  print(*result[long_key], sep=\", \")\n",
    "\n",
    "long_string = \"Need to check the longest word(s) in this input string and print the result\"\n",
    "\n",
    "print(\"Input text : \\n\\n\" + long_string,end=\"\\n\\n\\n\")\n",
    "longestWord(long_string.split())    "
   ]
  }
 ],
 "metadata": {
  "kernelspec": {
   "display_name": "Python 3",
   "language": "python",
   "name": "python3"
  },
  "language_info": {
   "codemirror_mode": {
    "name": "ipython",
    "version": 3
   },
   "file_extension": ".py",
   "mimetype": "text/x-python",
   "name": "python",
   "nbconvert_exporter": "python",
   "pygments_lexer": "ipython3",
   "version": "3.6.5"
  }
 },
 "nbformat": 4,
 "nbformat_minor": 2
}
