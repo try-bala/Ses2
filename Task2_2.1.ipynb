{
 "cells": [
  {
   "cell_type": "raw",
   "metadata": {},
   "source": [
    "Write a Python program using function concept that maps list of words into a list of integers representing the lengths of the corresponding words.\n",
    "\n",
    "Hint:  If a list [ ab,cde,erty] is passed on to the python function output should come as [2,3,4]\n",
    "Here 2,3 and 4 are the lengths of the words in the list."
   ]
  },
  {
   "cell_type": "code",
   "execution_count": 11,
   "metadata": {},
   "outputs": [],
   "source": [
    "def getListValues():\n",
    "    l = []\n",
    "    print(\"Enter list of values\")\n",
    "    while(True):\n",
    "        i = input()\n",
    "        if i != \"\":\n",
    "            l.append(i)\n",
    "        else:\n",
    "            break\n",
    "    return l\n",
    "\n",
    "def length(w):\n",
    "    return len(w)\n",
    "\n",
    "def convert():\n",
    "    inList = getListValues()\n",
    "    print(\"Input : %s\" %(inList))\n",
    "    result = list(map(length,inList))\n",
    "    print (\"Output : %s\" %(result))\n",
    "        "
   ]
  },
  {
   "cell_type": "code",
   "execution_count": 12,
   "metadata": {},
   "outputs": [
    {
     "name": "stdout",
     "output_type": "stream",
     "text": [
      "Enter list of values\n",
      "RGRGDS\n",
      "FWS\n",
      "RYRT\n",
      "VDFG\n",
      "DFGERT\n",
      "DSS\n",
      "D\n",
      "GT\n",
      "\n",
      "Input : ['RGRGDS', 'FWS', 'RYRT', 'VDFG', 'DFGERT', 'DSS', 'D', 'GT']\n",
      "Output : [6, 3, 4, 4, 6, 3, 1, 2]\n"
     ]
    }
   ],
   "source": [
    "convert()"
   ]
  }
 ],
 "metadata": {
  "kernelspec": {
   "display_name": "Python 3",
   "language": "python",
   "name": "python3"
  },
  "language_info": {
   "codemirror_mode": {
    "name": "ipython",
    "version": 3
   },
   "file_extension": ".py",
   "mimetype": "text/x-python",
   "name": "python",
   "nbconvert_exporter": "python",
   "pygments_lexer": "ipython3",
   "version": "3.6.5"
  }
 },
 "nbformat": 4,
 "nbformat_minor": 2
}
